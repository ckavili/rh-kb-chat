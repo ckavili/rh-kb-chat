{
 "cells": [
  {
   "cell_type": "markdown",
   "id": "3420575b-4d00-458b-aa0e-7030008ccd53",
   "metadata": {},
   "source": [
    "## Red Hat Product Documentation Ingestion\n",
    "\n",
    "Using this notebook and the various dependencies, you can extract and ingest a specific Red Hat Product documentation inside a Milvus database using Nomic AI Embeddings."
   ]
  },
  {
   "cell_type": "markdown",
   "id": "8308b229-b520-4e82-a783-eb921bb955e7",
   "metadata": {},
   "source": [
    "### Needed packages"
   ]
  },
  {
   "cell_type": "code",
   "execution_count": null,
   "id": "91e41b41-f60a-4b0f-91a1-cd273b60f21b",
   "metadata": {
    "tags": []
   },
   "outputs": [],
   "source": [
    "#!pip install -qr requirements.txt"
   ]
  },
  {
   "cell_type": "code",
   "execution_count": null,
   "id": "801d9dbc-f155-4b04-80a9-8659a1e1b6de",
   "metadata": {
    "tags": []
   },
   "outputs": [],
   "source": [
    "import os\n",
    "\n",
    "from dotenv import load_dotenv\n",
    "\n",
    "import collections_loader as cl\n",
    "import milvus_handler\n",
    "\n",
    "load_dotenv()"
   ]
  },
  {
   "cell_type": "markdown",
   "id": "08cae2e1-1f96-4bcd-81c4-eaa750e8338a",
   "metadata": {},
   "source": [
    "## Collection information"
   ]
  },
  {
   "cell_type": "code",
   "execution_count": null,
   "id": "c521f0ff-369e-460d-b38e-c76accab987d",
   "metadata": {
    "tags": []
   },
   "outputs": [],
   "source": [
    "collections_path = os.getenv(\"COLLECTIONS_PATH\")\n",
    "collections_git_repo_name = os.getenv(\"COLLECTIONS_GIT_REPO_NAME\")\n",
    "collections_git_repo_path = os.getenv(\"COLLECTIONS_GIT_REPO_PATH\")\n",
    "collections_git_repo_branch = os.getenv(\"COLLECTIONS_GIT_REPO_BRANCH\")"
   ]
  },
  {
   "cell_type": "code",
   "execution_count": null,
   "id": "696f84a2-6b7f-4f83-a09c-4fe30141357c",
   "metadata": {
    "tags": []
   },
   "outputs": [],
   "source": [
    "# Load all JSON files into the collections object\n",
    "collections = []\n",
    "collection_loader = cl.CollectionLoader()\n",
    "if collections_path is not None:\n",
    "    collection_loader.fetch_collections_from_path(collections, collections_path)\n",
    "if collections_git_repo_name is not None:\n",
    "    collections = cl.fetch_collections_from_git(collections, collections_git_repo_name, collections_git_repo_path, collections_git_repo_branch)\n",
    "\n",
    "# Now you can parse the collections object\n",
    "for collection in collections:\n",
    "    print(collection)"
   ]
  },
  {
   "cell_type": "markdown",
   "id": "ff8e191e-223b-45b4-9c11-63c051c76a35",
   "metadata": {
    "tags": []
   },
   "source": [
    "## Ingestion"
   ]
  },
  {
   "cell_type": "code",
   "execution_count": null,
   "id": "927796d3-8ff3-4831-8c3f-aed05a54c216",
   "metadata": {
    "tags": []
   },
   "outputs": [],
   "source": [
    "milvus_endpoint = {}\n",
    "embeddings_endpoint = {}\n",
    "\n",
    "milvus_uri = os.getenv(\"MILVUS_URI\")\n",
    "milvus_username = os.getenv(\"MILVUS_USERNAME\")\n",
    "milvus_password = os.getenv(\"MILVUS_PASSWORD\")\n",
    "milvus_db = os.getenv(\"MILVUS_DB\")\n",
    "milvus_batch_size = int(os.getenv(\"MILVUS_BATCH_SIZE\"))\n",
    "chunk_size = int(os.getenv(\"CHUNK_SIZE\"))\n",
    "chunk_overlap = int(os.getenv(\"CHUNK_OVERLAP\"))\n",
    "embeddings_api_url = os.getenv(\"EMBEDDINGS_API_URL\")\n",
    "embeddings_api_key = os.getenv(\"EMBEDDINGS_API_KEY\")\n",
    "embeddings_model_name = os.getenv(\"EMBEDDINGS_MODEL_NAME\")"
   ]
  },
  {
   "cell_type": "code",
   "execution_count": null,
   "id": "39e5e286-bb53-498a-90ec-5d032b2d675c",
   "metadata": {
    "tags": []
   },
   "outputs": [],
   "source": [
    "milvus_handler = milvus_handler.MilvusHandler(\n",
    "    milvus_uri,\n",
    "    milvus_username,\n",
    "    milvus_password,\n",
    "    milvus_db,\n",
    "    milvus_batch_size,\n",
    "    embeddings_api_url,\n",
    "    embeddings_api_key,\n",
    "    embeddings_model_name\n",
    ")"
   ]
  },
  {
   "cell_type": "code",
   "execution_count": null,
   "id": "03bb88d5-d89e-434c-a395-606e6f74b51a",
   "metadata": {
    "tags": []
   },
   "outputs": [],
   "source": [
    "for collection in collections:\n",
    "    for version in collection.versions:\n",
    "        print('-----------------------------------')\n",
    "        print(f'Processing \"{collection.collection_full_name}\", Version: \"{version.version_number}\", Directive: \"{version.store_directive}\"')\n",
    "        collection_name = (\n",
    "            f\"{collection.collection_base_name}_{version.version_number}\"\n",
    "            .replace(\"-\", \"_\")\n",
    "            .replace(\".\", \"_\")\n",
    "        )\n",
    "        if (version.store_directive == 'create_or_keep'):\n",
    "            if (milvus_handler.collection_check(collection_name) is None):\n",
    "                print(\"Collection not present, creating it...\")\n",
    "                try:\n",
    "                    print(f'Creating \"{collection.collection_full_name}\" at version {version.version_number}')\n",
    "                    milvus_handler.ingest_documentation(collection, version, chunk_size, chunk_overlap)\n",
    "                except Exception as e:\n",
    "                    print(f'Error processing \"{collection.collection_full_name}\" at version {version.version_number}')\n",
    "                    print(f'{e}')\n",
    "            else:\n",
    "                print(\"Collection already present, skipping\")\n",
    "        if (version.store_directive == 'update'):\n",
    "            print(\"No check needed, creating/replacing the collection anyway...\")\n",
    "            try:\n",
    "                print(f'Updating \"{collection.collection_full_name}\" at version {version.version_number}')\n",
    "                milvus_handler.ingest_documentation(collection, version, chunk_size, chunk_overlap)\n",
    "            except Exception as e:\n",
    "                print(f'Error processing \"{collection.collection_full_name}\" at version {version.version_number}')\n",
    "                print(f'{e}')\n",
    "        if (version.store_directive == 'delete'):\n",
    "            if (milvus_handler.collection_check(collection_name) is None):\n",
    "                print(\"No collection present already, skipping\")\n",
    "            else:\n",
    "                print(\"Let's delete it\")\n",
    "                milvus_handler.collection_delete(collection_name)"
   ]
  }
 ],
 "metadata": {
  "kernelspec": {
   "display_name": ".venv",
   "language": "python",
   "name": "python3"
  },
  "language_info": {
   "codemirror_mode": {
    "name": "ipython",
    "version": 3
   },
   "file_extension": ".py",
   "mimetype": "text/x-python",
   "name": "python",
   "nbconvert_exporter": "python",
   "pygments_lexer": "ipython3",
   "version": "3.11.7"
  }
 },
 "nbformat": 4,
 "nbformat_minor": 5
}
